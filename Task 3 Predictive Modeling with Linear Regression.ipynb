{
 "cells": [
  {
   "cell_type": "code",
   "execution_count": 1,
   "id": "1e192455",
   "metadata": {},
   "outputs": [],
   "source": [
    "import pandas as pd\n",
    "import numpy as np\n",
    "import matplotlib.pyplot as plt\n",
    "from sklearn import linear_model"
   ]
  },
  {
   "cell_type": "code",
   "execution_count": 2,
   "id": "ba0e9726",
   "metadata": {},
   "outputs": [
    {
     "name": "stdout",
     "output_type": "stream",
     "text": [
      "C:\\Users\\HP\\Downloads\n"
     ]
    }
   ],
   "source": [
    "cd C:\\Users\\HP\\Downloads"
   ]
  },
  {
   "cell_type": "code",
   "execution_count": 3,
   "id": "96cb66fb",
   "metadata": {},
   "outputs": [],
   "source": [
    "data = pd.read_csv(\"Fuel consumption 2019.csv\")"
   ]
  },
  {
   "cell_type": "code",
   "execution_count": 4,
   "id": "8afc98b6",
   "metadata": {},
   "outputs": [
    {
     "data": {
      "text/html": [
       "<div>\n",
       "<style scoped>\n",
       "    .dataframe tbody tr th:only-of-type {\n",
       "        vertical-align: middle;\n",
       "    }\n",
       "\n",
       "    .dataframe tbody tr th {\n",
       "        vertical-align: top;\n",
       "    }\n",
       "\n",
       "    .dataframe thead th {\n",
       "        text-align: right;\n",
       "    }\n",
       "</style>\n",
       "<table border=\"1\" class=\"dataframe\">\n",
       "  <thead>\n",
       "    <tr style=\"text-align: right;\">\n",
       "      <th></th>\n",
       "      <th>Model-Year</th>\n",
       "      <th>Make</th>\n",
       "      <th>Model</th>\n",
       "      <th>Vehicle-Class</th>\n",
       "      <th>Engine-Size</th>\n",
       "      <th>Cylinders</th>\n",
       "      <th>Transmission</th>\n",
       "      <th>Fuel-Type</th>\n",
       "      <th>Fuel-Consumption-City</th>\n",
       "      <th>Fuel-Consumption-Hwy</th>\n",
       "      <th>Fuel-Consumption-Comb</th>\n",
       "      <th>CO2-Emissions</th>\n",
       "    </tr>\n",
       "  </thead>\n",
       "  <tbody>\n",
       "    <tr>\n",
       "      <th>0</th>\n",
       "      <td>2019</td>\n",
       "      <td>Acura</td>\n",
       "      <td>ILX</td>\n",
       "      <td>Compact</td>\n",
       "      <td>2.4</td>\n",
       "      <td>4</td>\n",
       "      <td>AM8</td>\n",
       "      <td>Z</td>\n",
       "      <td>9.9</td>\n",
       "      <td>7.0</td>\n",
       "      <td>8.6</td>\n",
       "      <td>199</td>\n",
       "    </tr>\n",
       "    <tr>\n",
       "      <th>1</th>\n",
       "      <td>2019</td>\n",
       "      <td>Acura</td>\n",
       "      <td>MDX SH-AWD</td>\n",
       "      <td>SUV: Small</td>\n",
       "      <td>3.5</td>\n",
       "      <td>6</td>\n",
       "      <td>AS9</td>\n",
       "      <td>Z</td>\n",
       "      <td>12.2</td>\n",
       "      <td>9.0</td>\n",
       "      <td>10.8</td>\n",
       "      <td>252</td>\n",
       "    </tr>\n",
       "    <tr>\n",
       "      <th>2</th>\n",
       "      <td>2019</td>\n",
       "      <td>Acura</td>\n",
       "      <td>MDX SH-AWD A-SPEC</td>\n",
       "      <td>SUV: Small</td>\n",
       "      <td>3.5</td>\n",
       "      <td>6</td>\n",
       "      <td>AS9</td>\n",
       "      <td>Z</td>\n",
       "      <td>12.2</td>\n",
       "      <td>9.5</td>\n",
       "      <td>11.0</td>\n",
       "      <td>258</td>\n",
       "    </tr>\n",
       "    <tr>\n",
       "      <th>3</th>\n",
       "      <td>2019</td>\n",
       "      <td>Acura</td>\n",
       "      <td>MDX Hybrid AWD</td>\n",
       "      <td>SUV: Small</td>\n",
       "      <td>3.0</td>\n",
       "      <td>6</td>\n",
       "      <td>AM7</td>\n",
       "      <td>Z</td>\n",
       "      <td>9.1</td>\n",
       "      <td>9.0</td>\n",
       "      <td>9.0</td>\n",
       "      <td>210</td>\n",
       "    </tr>\n",
       "    <tr>\n",
       "      <th>4</th>\n",
       "      <td>2019</td>\n",
       "      <td>Acura</td>\n",
       "      <td>NSX</td>\n",
       "      <td>Two-seater</td>\n",
       "      <td>3.5</td>\n",
       "      <td>6</td>\n",
       "      <td>AM9</td>\n",
       "      <td>Z</td>\n",
       "      <td>11.1</td>\n",
       "      <td>10.8</td>\n",
       "      <td>11.0</td>\n",
       "      <td>261</td>\n",
       "    </tr>\n",
       "    <tr>\n",
       "      <th>...</th>\n",
       "      <td>...</td>\n",
       "      <td>...</td>\n",
       "      <td>...</td>\n",
       "      <td>...</td>\n",
       "      <td>...</td>\n",
       "      <td>...</td>\n",
       "      <td>...</td>\n",
       "      <td>...</td>\n",
       "      <td>...</td>\n",
       "      <td>...</td>\n",
       "      <td>...</td>\n",
       "      <td>...</td>\n",
       "    </tr>\n",
       "    <tr>\n",
       "      <th>1041</th>\n",
       "      <td>2019</td>\n",
       "      <td>Volvo</td>\n",
       "      <td>XC40 T5 AWD</td>\n",
       "      <td>SUV: Small</td>\n",
       "      <td>2.0</td>\n",
       "      <td>4</td>\n",
       "      <td>AS8</td>\n",
       "      <td>Z</td>\n",
       "      <td>10.3</td>\n",
       "      <td>7.5</td>\n",
       "      <td>9.0</td>\n",
       "      <td>211</td>\n",
       "    </tr>\n",
       "    <tr>\n",
       "      <th>1042</th>\n",
       "      <td>2019</td>\n",
       "      <td>Volvo</td>\n",
       "      <td>XC60 T5 AWD</td>\n",
       "      <td>SUV: Small</td>\n",
       "      <td>2.0</td>\n",
       "      <td>4</td>\n",
       "      <td>AS8</td>\n",
       "      <td>Z</td>\n",
       "      <td>11.3</td>\n",
       "      <td>8.5</td>\n",
       "      <td>10.0</td>\n",
       "      <td>233</td>\n",
       "    </tr>\n",
       "    <tr>\n",
       "      <th>1043</th>\n",
       "      <td>2019</td>\n",
       "      <td>Volvo</td>\n",
       "      <td>XC60 T6 AWD</td>\n",
       "      <td>SUV: Small</td>\n",
       "      <td>2.0</td>\n",
       "      <td>4</td>\n",
       "      <td>AS8</td>\n",
       "      <td>Z</td>\n",
       "      <td>11.8</td>\n",
       "      <td>8.6</td>\n",
       "      <td>10.4</td>\n",
       "      <td>242</td>\n",
       "    </tr>\n",
       "    <tr>\n",
       "      <th>1044</th>\n",
       "      <td>2019</td>\n",
       "      <td>Volvo</td>\n",
       "      <td>XC90 T5 AWD</td>\n",
       "      <td>SUV: Standard</td>\n",
       "      <td>2.0</td>\n",
       "      <td>4</td>\n",
       "      <td>AS8</td>\n",
       "      <td>Z</td>\n",
       "      <td>11.3</td>\n",
       "      <td>8.5</td>\n",
       "      <td>10.0</td>\n",
       "      <td>233</td>\n",
       "    </tr>\n",
       "    <tr>\n",
       "      <th>1045</th>\n",
       "      <td>2019</td>\n",
       "      <td>Volvo</td>\n",
       "      <td>XC90 T6 AWD</td>\n",
       "      <td>SUV: Standard</td>\n",
       "      <td>2.0</td>\n",
       "      <td>4</td>\n",
       "      <td>AS8</td>\n",
       "      <td>Z</td>\n",
       "      <td>12.1</td>\n",
       "      <td>8.9</td>\n",
       "      <td>10.7</td>\n",
       "      <td>250</td>\n",
       "    </tr>\n",
       "  </tbody>\n",
       "</table>\n",
       "<p>1046 rows × 12 columns</p>\n",
       "</div>"
      ],
      "text/plain": [
       "      Model-Year   Make              Model  Vehicle-Class  Engine-Size  \\\n",
       "0           2019  Acura                ILX        Compact          2.4   \n",
       "1           2019  Acura         MDX SH-AWD     SUV: Small          3.5   \n",
       "2           2019  Acura  MDX SH-AWD A-SPEC     SUV: Small          3.5   \n",
       "3           2019  Acura     MDX Hybrid AWD     SUV: Small          3.0   \n",
       "4           2019  Acura                NSX     Two-seater          3.5   \n",
       "...          ...    ...                ...            ...          ...   \n",
       "1041        2019  Volvo        XC40 T5 AWD     SUV: Small          2.0   \n",
       "1042        2019  Volvo        XC60 T5 AWD     SUV: Small          2.0   \n",
       "1043        2019  Volvo        XC60 T6 AWD     SUV: Small          2.0   \n",
       "1044        2019  Volvo        XC90 T5 AWD  SUV: Standard          2.0   \n",
       "1045        2019  Volvo        XC90 T6 AWD  SUV: Standard          2.0   \n",
       "\n",
       "      Cylinders Transmission Fuel-Type  Fuel-Consumption-City  \\\n",
       "0             4          AM8         Z                    9.9   \n",
       "1             6          AS9         Z                   12.2   \n",
       "2             6          AS9         Z                   12.2   \n",
       "3             6          AM7         Z                    9.1   \n",
       "4             6          AM9         Z                   11.1   \n",
       "...         ...          ...       ...                    ...   \n",
       "1041          4          AS8         Z                   10.3   \n",
       "1042          4          AS8         Z                   11.3   \n",
       "1043          4          AS8         Z                   11.8   \n",
       "1044          4          AS8         Z                   11.3   \n",
       "1045          4          AS8         Z                   12.1   \n",
       "\n",
       "      Fuel-Consumption-Hwy  Fuel-Consumption-Comb  CO2-Emissions  \n",
       "0                      7.0                    8.6            199  \n",
       "1                      9.0                   10.8            252  \n",
       "2                      9.5                   11.0            258  \n",
       "3                      9.0                    9.0            210  \n",
       "4                     10.8                   11.0            261  \n",
       "...                    ...                    ...            ...  \n",
       "1041                   7.5                    9.0            211  \n",
       "1042                   8.5                   10.0            233  \n",
       "1043                   8.6                   10.4            242  \n",
       "1044                   8.5                   10.0            233  \n",
       "1045                   8.9                   10.7            250  \n",
       "\n",
       "[1046 rows x 12 columns]"
      ]
     },
     "execution_count": 4,
     "metadata": {},
     "output_type": "execute_result"
    }
   ],
   "source": [
    "data"
   ]
  },
  {
   "cell_type": "code",
   "execution_count": 5,
   "id": "9dd02718",
   "metadata": {},
   "outputs": [
    {
     "data": {
      "text/html": [
       "<div>\n",
       "<style scoped>\n",
       "    .dataframe tbody tr th:only-of-type {\n",
       "        vertical-align: middle;\n",
       "    }\n",
       "\n",
       "    .dataframe tbody tr th {\n",
       "        vertical-align: top;\n",
       "    }\n",
       "\n",
       "    .dataframe thead th {\n",
       "        text-align: right;\n",
       "    }\n",
       "</style>\n",
       "<table border=\"1\" class=\"dataframe\">\n",
       "  <thead>\n",
       "    <tr style=\"text-align: right;\">\n",
       "      <th></th>\n",
       "      <th>Model-Year</th>\n",
       "      <th>Engine-Size</th>\n",
       "      <th>Cylinders</th>\n",
       "      <th>Fuel-Consumption-City</th>\n",
       "      <th>Fuel-Consumption-Hwy</th>\n",
       "      <th>Fuel-Consumption-Comb</th>\n",
       "      <th>CO2-Emissions</th>\n",
       "    </tr>\n",
       "  </thead>\n",
       "  <tbody>\n",
       "    <tr>\n",
       "      <th>count</th>\n",
       "      <td>1046.0</td>\n",
       "      <td>1046.000000</td>\n",
       "      <td>1046.000000</td>\n",
       "      <td>1046.000000</td>\n",
       "      <td>1046.000000</td>\n",
       "      <td>1046.000000</td>\n",
       "      <td>1046.000000</td>\n",
       "    </tr>\n",
       "    <tr>\n",
       "      <th>mean</th>\n",
       "      <td>2019.0</td>\n",
       "      <td>3.108795</td>\n",
       "      <td>5.595602</td>\n",
       "      <td>12.378011</td>\n",
       "      <td>9.038050</td>\n",
       "      <td>10.872562</td>\n",
       "      <td>251.312620</td>\n",
       "    </tr>\n",
       "    <tr>\n",
       "      <th>std</th>\n",
       "      <td>0.0</td>\n",
       "      <td>1.315989</td>\n",
       "      <td>1.796845</td>\n",
       "      <td>3.294286</td>\n",
       "      <td>2.049742</td>\n",
       "      <td>2.697321</td>\n",
       "      <td>57.017573</td>\n",
       "    </tr>\n",
       "    <tr>\n",
       "      <th>min</th>\n",
       "      <td>2019.0</td>\n",
       "      <td>1.000000</td>\n",
       "      <td>3.000000</td>\n",
       "      <td>4.200000</td>\n",
       "      <td>4.000000</td>\n",
       "      <td>4.100000</td>\n",
       "      <td>96.000000</td>\n",
       "    </tr>\n",
       "    <tr>\n",
       "      <th>25%</th>\n",
       "      <td>2019.0</td>\n",
       "      <td>2.000000</td>\n",
       "      <td>4.000000</td>\n",
       "      <td>10.200000</td>\n",
       "      <td>7.600000</td>\n",
       "      <td>9.100000</td>\n",
       "      <td>212.250000</td>\n",
       "    </tr>\n",
       "    <tr>\n",
       "      <th>50%</th>\n",
       "      <td>2019.0</td>\n",
       "      <td>3.000000</td>\n",
       "      <td>6.000000</td>\n",
       "      <td>12.050000</td>\n",
       "      <td>8.800000</td>\n",
       "      <td>10.600000</td>\n",
       "      <td>248.000000</td>\n",
       "    </tr>\n",
       "    <tr>\n",
       "      <th>75%</th>\n",
       "      <td>2019.0</td>\n",
       "      <td>3.600000</td>\n",
       "      <td>6.000000</td>\n",
       "      <td>14.300000</td>\n",
       "      <td>10.200000</td>\n",
       "      <td>12.575000</td>\n",
       "      <td>289.000000</td>\n",
       "    </tr>\n",
       "    <tr>\n",
       "      <th>max</th>\n",
       "      <td>2019.0</td>\n",
       "      <td>8.000000</td>\n",
       "      <td>16.000000</td>\n",
       "      <td>26.800000</td>\n",
       "      <td>17.200000</td>\n",
       "      <td>22.200000</td>\n",
       "      <td>522.000000</td>\n",
       "    </tr>\n",
       "  </tbody>\n",
       "</table>\n",
       "</div>"
      ],
      "text/plain": [
       "       Model-Year  Engine-Size    Cylinders  Fuel-Consumption-City  \\\n",
       "count      1046.0  1046.000000  1046.000000            1046.000000   \n",
       "mean       2019.0     3.108795     5.595602              12.378011   \n",
       "std           0.0     1.315989     1.796845               3.294286   \n",
       "min        2019.0     1.000000     3.000000               4.200000   \n",
       "25%        2019.0     2.000000     4.000000              10.200000   \n",
       "50%        2019.0     3.000000     6.000000              12.050000   \n",
       "75%        2019.0     3.600000     6.000000              14.300000   \n",
       "max        2019.0     8.000000    16.000000              26.800000   \n",
       "\n",
       "       Fuel-Consumption-Hwy  Fuel-Consumption-Comb  CO2-Emissions  \n",
       "count           1046.000000            1046.000000    1046.000000  \n",
       "mean               9.038050              10.872562     251.312620  \n",
       "std                2.049742               2.697321      57.017573  \n",
       "min                4.000000               4.100000      96.000000  \n",
       "25%                7.600000               9.100000     212.250000  \n",
       "50%                8.800000              10.600000     248.000000  \n",
       "75%               10.200000              12.575000     289.000000  \n",
       "max               17.200000              22.200000     522.000000  "
      ]
     },
     "execution_count": 5,
     "metadata": {},
     "output_type": "execute_result"
    }
   ],
   "source": [
    "data.describe()"
   ]
  },
  {
   "cell_type": "code",
   "execution_count": 6,
   "id": "c9def96a",
   "metadata": {},
   "outputs": [
    {
     "data": {
      "text/plain": [
       "Model-Year               1046\n",
       "Make                     1046\n",
       "Model                    1046\n",
       "Vehicle-Class            1046\n",
       "Engine-Size              1046\n",
       "Cylinders                1046\n",
       "Transmission             1046\n",
       "Fuel-Type                1046\n",
       "Fuel-Consumption-City    1046\n",
       "Fuel-Consumption-Hwy     1046\n",
       "Fuel-Consumption-Comb    1046\n",
       "CO2-Emissions            1046\n",
       "dtype: int64"
      ]
     },
     "execution_count": 6,
     "metadata": {},
     "output_type": "execute_result"
    }
   ],
   "source": [
    "data.count()"
   ]
  },
  {
   "cell_type": "code",
   "execution_count": 7,
   "id": "eb4fd118",
   "metadata": {},
   "outputs": [],
   "source": [
    "data_new = data[[\"Engine-Size\" , \"CO2-Emissions\"]]"
   ]
  },
  {
   "cell_type": "code",
   "execution_count": 8,
   "id": "f0d2f4c2",
   "metadata": {},
   "outputs": [
    {
     "data": {
      "text/plain": [
       "Text(0, 0.5, 'CO2-Emissions')"
      ]
     },
     "execution_count": 8,
     "metadata": {},
     "output_type": "execute_result"
    },
    {
     "data": {
      "image/png": "[encoded data removed]",
      "text/plain": [
       "<Figure size 432x288 with 1 Axes>"
      ]
     },
     "metadata": {
      "needs_background": "light"
     },
     "output_type": "display_data"
    }
   ],
   "source": [
    "plt.scatter(data_new[\"Engine-Size\"] , data_new[\"CO2-Emissions\"], color=\"blue\")\n",
    "\n",
    "plt.xlabel(\"Engine-Size\")\n",
    "plt.ylabel (\"CO2-Emissions\")"
   ]
  },
  {
   "cell_type": "code",
   "execution_count": 9,
   "id": "cfd01454",
   "metadata": {},
   "outputs": [],
   "source": [
    "from sklearn.model_selection import train_test_split\n",
    "\n",
    "X_train, X_test, y_train, y_test = train_test_split(data_new,data_new,train_size=0.8)"
   ]
  },
  {
   "cell_type": "code",
   "execution_count": 10,
   "id": "68d05c63",
   "metadata": {},
   "outputs": [
    {
     "data": {
      "text/plain": [
       "LinearRegression()"
      ]
     },
     "execution_count": 10,
     "metadata": {},
     "output_type": "execute_result"
    }
   ],
   "source": [
    "regr = linear_model.LinearRegression()\n",
    "train_x = np.array(X_train[[\"Engine-Size\"]])\n",
    "train_y = np.array(y_train[[\"CO2-Emissions\"]])\n",
    "regr.fit(train_x, train_y)"
   ]
  },
  {
   "cell_type": "code",
   "execution_count": 11,
   "id": "cd09afaa",
   "metadata": {},
   "outputs": [
    {
     "name": "stdout",
     "output_type": "stream",
     "text": [
      "B1 :  [[36.51468284]]\n",
      "B0 : [137.61997963]\n"
     ]
    }
   ],
   "source": [
    "print (\"B1 : \", regr.coef_)\n",
    "print (\"B0 :\" , regr.intercept_)\n",
    "B0 = regr.intercept_\n",
    "B1 = regr.coef_"
   ]
  },
  {
   "cell_type": "code",
   "execution_count": 12,
   "id": "b25d4ed3",
   "metadata": {},
   "outputs": [
    {
     "data": {
      "text/plain": [
       "[<matplotlib.lines.Line2D at 0x1729dab9850>]"
      ]
     },
     "execution_count": 12,
     "metadata": {},
     "output_type": "execute_result"
    },
    {
     "data": {
      "image/png": "[encoded data removed]",
      "text/plain": [
       "<Figure size 432x288 with 1 Axes>"
      ]
     },
     "metadata": {
      "needs_background": "light"
     },
     "output_type": "display_data"
    }
   ],
   "source": [
    "plt.scatter(data_new[\"Engine-Size\"] , data_new[\"CO2-Emissions\"], color=\"blue\")\n",
    "\n",
    "plt.xlabel(\"Engine-Size\")\n",
    "plt.ylabel (\"CO2-Emissions\")\n",
    "plt.plot(train_x, B0 + B1 * train_x , '-r')"
   ]
  },
  {
   "cell_type": "code",
   "execution_count": 13,
   "id": "b214dd59",
   "metadata": {},
   "outputs": [],
   "source": [
    "def get_regression_predictions(input_feature, B0 , B1):\n",
    "\n",
    "    prediction = B0 + B1 * input_feature\n",
    "    return prediction"
   ]
  },
  {
   "cell_type": "code",
   "execution_count": 14,
   "id": "299f4151",
   "metadata": {},
   "outputs": [
    {
     "name": "stdout",
     "output_type": "stream",
     "text": [
      "Estimated Co2Emisssions :  [[265.42136959]]\n"
     ]
    }
   ],
   "source": [
    "enginesize = 3.5\n",
    "\n",
    "estimated_Co2Emission = get_regression_predictions(enginesize,B0 , B1)\n",
    "print(\"Estimated Co2Emisssions : \" , estimated_Co2Emission)"
   ]
  },
  {
   "cell_type": "code",
   "execution_count": 15,
   "id": "4097f7fd",
   "metadata": {},
   "outputs": [],
   "source": [
    "test_x = np.array(X_test[[\"Engine-Size\"]])\n",
    "test_y = np.array(y_test[[\"CO2-Emissions\"]])\n",
    "test_yy = regr.predict(test_x)"
   ]
  },
  {
   "cell_type": "code",
   "execution_count": 16,
   "id": "ec5824f6",
   "metadata": {},
   "outputs": [],
   "source": [
    "Error = np.mean((test_y - test_yy)**2)"
   ]
  },
  {
   "cell_type": "code",
   "execution_count": 17,
   "id": "86d0dad5",
   "metadata": {},
   "outputs": [
    {
     "data": {
      "text/plain": [
       "880.3483289171253"
      ]
     },
     "execution_count": 17,
     "metadata": {},
     "output_type": "execute_result"
    }
   ],
   "source": [
    "Error"
   ]
  },
  {
   "cell_type": "code",
   "execution_count": null,
   "id": "6d627f68",
   "metadata": {},
   "outputs": [],
   "source": []
  }
 ],
 "metadata": {
  "kernelspec": {
   "display_name": "Python 3",
   "language": "python",
   "name": "python3"
  },
  "language_info": {
   "codemirror_mode": {
    "name": "ipython",
    "version": 3
   },
   "file_extension": ".py",
   "mimetype": "text/x-python",
   "name": "python",
   "nbconvert_exporter": "python",
   "pygments_lexer": "ipython3",
   "version": "3.8.8"
  }
 },
 "nbformat": 4,
 "nbformat_minor": 5
}
